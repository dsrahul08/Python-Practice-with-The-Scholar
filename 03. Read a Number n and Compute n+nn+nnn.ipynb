{
 "cells": [
  {
   "cell_type": "code",
   "execution_count": 3,
   "metadata": {},
   "outputs": [
    {
     "name": "stdout",
     "output_type": "stream",
     "text": [
      "Enter a number n: 3\n",
      "The value is: 369\n"
     ]
    }
   ],
   "source": [
    "#Read a Number n and Compute n+nn+nnn\n",
    "\n",
    "#Problem Solution \n",
    "    #1. Take the value of the variable and store it in n, convert into string store it in \n",
    "            #another variable\n",
    "    #2. Add the string twice so the string gets concatenated and store it in another variable\n",
    "    #3. Then add the string thrice and assign the value to the third variable\n",
    "    #4. Convert the strings in the second and third variables into integer \n",
    "    #5. Add the values  in all the integers \n",
    "    #6. Print the total value of the expression\n",
    "    #7. Exit\n",
    "    \n",
    "n = int(input('Enter a number n: '))\n",
    "temp = str(n)\n",
    "t1 = temp + temp\n",
    "t2 = temp + temp + temp\n",
    "comp = n + int(t1) + int(t2)\n",
    "print('The value is:', comp)"
   ]
  }
 ],
 "metadata": {
  "kernelspec": {
   "display_name": "Python 3",
   "language": "python",
   "name": "python3"
  },
  "language_info": {
   "codemirror_mode": {
    "name": "ipython",
    "version": 3
   },
   "file_extension": ".py",
   "mimetype": "text/x-python",
   "name": "python",
   "nbconvert_exporter": "python",
   "pygments_lexer": "ipython3",
   "version": "3.8.3"
  }
 },
 "nbformat": 4,
 "nbformat_minor": 4
}
