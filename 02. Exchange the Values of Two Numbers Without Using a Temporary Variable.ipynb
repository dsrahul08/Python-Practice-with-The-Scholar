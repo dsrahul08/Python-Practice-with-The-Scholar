{
 "cells": [
  {
   "cell_type": "code",
   "execution_count": 2,
   "metadata": {},
   "outputs": [
    {
     "name": "stdout",
     "output_type": "stream",
     "text": [
      "Enter the value of the first variable: 10\n",
      "Enter the value of the second variable: 20\n",
      "A is:  20 b is :  10\n"
     ]
    }
   ],
   "source": [
    "#Python Program to exchange the values of two numbers without using a temporary variable.\n",
    "\n",
    "#Problem solution \n",
    "    #1. Take the values of both the variables from the user\n",
    "    #2. Store the values in separate variables\n",
    "    #3. Add both the variables and store it in the first variable\n",
    "    #4. Subtract the second variable from the first variable and store it in the second variable\n",
    "    #5. Then, subtract the first variable from the second variable and store it in the first variable\n",
    "    #6. Print the swapped values\n",
    "    #7. Exit\n",
    "    \n",
    "a = int(input('Enter the value of the first variable: '))\n",
    "b = int(input('Enter the value of the second variable: '))\n",
    "a = a+b \n",
    "b = a-b\n",
    "a = a-b\n",
    "print('A is: ', a, \"b is : \", b)"
   ]
  }
 ],
 "metadata": {
  "kernelspec": {
   "display_name": "Python 3",
   "language": "python",
   "name": "python3"
  },
  "language_info": {
   "codemirror_mode": {
    "name": "ipython",
    "version": 3
   },
   "file_extension": ".py",
   "mimetype": "text/x-python",
   "name": "python",
   "nbconvert_exporter": "python",
   "pygments_lexer": "ipython3",
   "version": "3.8.3"
  }
 },
 "nbformat": 4,
 "nbformat_minor": 4
}
