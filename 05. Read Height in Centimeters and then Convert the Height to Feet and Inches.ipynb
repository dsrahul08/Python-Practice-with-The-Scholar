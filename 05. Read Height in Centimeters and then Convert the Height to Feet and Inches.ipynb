{
 "cells": [
  {
   "cell_type": "code",
   "execution_count": 3,
   "metadata": {},
   "outputs": [
    {
     "name": "stdout",
     "output_type": "stream",
     "text": [
      "Enter the height in centimeters: 173\n",
      "The height in inches:  68.16\n",
      "The height in feet:  5.67\n"
     ]
    }
   ],
   "source": [
    "#Read Height in Centimeters and then Convert the Height to Feet and Inches\n",
    "\n",
    "#Problem Solution \n",
    "    #1. Take the height in centimeters and store it in the variable \n",
    "    #2. Convert the height in centimeters into inches and Feet\n",
    "    #3. Print the height in inches and Feet\n",
    "    #4. Exit\n",
    "    \n",
    "cm = int(input('Enter the height in centimeters: '))\n",
    "inches = 0.394*cm\n",
    "feet = 0.0328*cm\n",
    "print('The height in inches: ', round(inches,2))\n",
    "print('The height in feet: ', round(feet,2))"
   ]
  }
 ],
 "metadata": {
  "kernelspec": {
   "display_name": "Python 3",
   "language": "python",
   "name": "python3"
  },
  "language_info": {
   "codemirror_mode": {
    "name": "ipython",
    "version": 3
   },
   "file_extension": ".py",
   "mimetype": "text/x-python",
   "name": "python",
   "nbconvert_exporter": "python",
   "pygments_lexer": "ipython3",
   "version": "3.8.3"
  }
 },
 "nbformat": 4,
 "nbformat_minor": 4
}
