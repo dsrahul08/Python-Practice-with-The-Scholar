{
 "cells": [
  {
   "cell_type": "code",
   "execution_count": 4,
   "metadata": {},
   "outputs": [
    {
     "name": "stdout",
     "output_type": "stream",
     "text": [
      "Enter the number of elements to be inserted: 4\n",
      "Enter element: 1\n",
      "Enter element: 2\n",
      "Enter element: 3\n",
      "Enter element: 4\n",
      "Average of elements in the list 2.5\n"
     ]
    }
   ],
   "source": [
    "#Python Program to Calculate the Average of Numbers in a Given List.\n",
    "\n",
    "#Problem Solution \n",
    "    #1. Take the number of elements to be stored in the list as input \n",
    "    #2. Use a for loop to input elements into the list\n",
    "    #3. Calculate the total sum of the elements in the list\n",
    "    #4. Divide the sum by total number of elements in the list\n",
    "    #5. Exit\n",
    "\n",
    "n = int(input('Enter the number of elements to be inserted: '))\n",
    "a = []\n",
    "for i in range(0,n):\n",
    "    element = int(input('Enter element: '))\n",
    "    a.append(element)\n",
    "avg = sum(a)/n\n",
    "print('Average of elements in the list', round(avg,2))"
   ]
  },
  {
   "cell_type": "code",
   "execution_count": 3,
   "metadata": {},
   "outputs": [
    {
     "data": {
      "text/plain": [
       "[1, 2, 3, 4, 5]"
      ]
     },
     "execution_count": 3,
     "metadata": {},
     "output_type": "execute_result"
    }
   ],
   "source": [
    "a"
   ]
  }
 ],
 "metadata": {
  "kernelspec": {
   "display_name": "Python 3",
   "language": "python",
   "name": "python3"
  },
  "language_info": {
   "codemirror_mode": {
    "name": "ipython",
    "version": 3
   },
   "file_extension": ".py",
   "mimetype": "text/x-python",
   "name": "python",
   "nbconvert_exporter": "python",
   "pygments_lexer": "ipython3",
   "version": "3.8.3"
  }
 },
 "nbformat": 4,
 "nbformat_minor": 4
}
