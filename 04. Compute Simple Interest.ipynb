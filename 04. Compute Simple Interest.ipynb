{
 "cells": [
  {
   "cell_type": "code",
   "execution_count": 1,
   "metadata": {},
   "outputs": [
    {
     "name": "stdout",
     "output_type": "stream",
     "text": [
      "Enter the principle amount: 1500000\n",
      "Enter the time (Years): 2\n",
      "Enter the rate: 11.25\n",
      "The simple interest is:  337500.0\n"
     ]
    }
   ],
   "source": [
    "#Compute Simple Interest\n",
    "\n",
    "    #1. Take in the values for principle amount, rate and time\n",
    "    #2. Using the formula, compute the simple interest\n",
    "    #3. Print the value of the computed interest\n",
    "    #4. Exit\n",
    "    \n",
    "#Formula is: (principle*time*rate)/100\n",
    "\n",
    "principle = float(input('Enter the principle amount: '))\n",
    "time = int(input('Enter the time (Years): '))\n",
    "rate = float(input(\"Enter the rate: \"))\n",
    "simple_interest = (principle*time*rate)/100\n",
    "print('The simple interest is: ', simple_interest)"
   ]
  }
 ],
 "metadata": {
  "kernelspec": {
   "display_name": "Python 3",
   "language": "python",
   "name": "python3"
  },
  "language_info": {
   "codemirror_mode": {
    "name": "ipython",
    "version": 3
   },
   "file_extension": ".py",
   "mimetype": "text/x-python",
   "name": "python",
   "nbconvert_exporter": "python",
   "pygments_lexer": "ipython3",
   "version": "3.8.3"
  }
 },
 "nbformat": 4,
 "nbformat_minor": 4
}
